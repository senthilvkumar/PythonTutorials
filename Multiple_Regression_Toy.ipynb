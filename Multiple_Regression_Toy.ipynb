{
 "cells": [
  {
   "cell_type": "code",
   "execution_count": 1,
   "metadata": {
    "collapsed": true
   },
   "outputs": [],
   "source": [
    "import numpy as np\n",
    "import matplotlib.pyplot as plt\n",
    "%matplotlib inline\n",
    "from sklearn.linear_model import LinearRegression\n",
    "np.random.seed(123)\n",
    "from scipy import linalg"
   ]
  },
  {
   "cell_type": "code",
   "execution_count": 2,
   "metadata": {},
   "outputs": [
    {
     "name": "stdout",
     "output_type": "stream",
     "text": [
      "[ 0.          0.11111111  0.22222222  0.33333333  0.44444444  0.55555556\n",
      "  0.66666667  0.77777778  0.88888889  1.        ]\n",
      "[ 1.          1.11751907  1.24884887  1.39561243  1.5596235   1.742909\n",
      "  1.94773404  2.17662993  2.43242545  2.71828183]\n"
     ]
    }
   ],
   "source": [
    "x1 = np.linspace(0,1,10)\n",
    "x2 = np.exp(x1)\n",
    "print(x1)\n",
    "print(x2)"
   ]
  },
  {
   "cell_type": "code",
   "execution_count": 3,
   "metadata": {},
   "outputs": [
    {
     "data": {
      "text/plain": [
       "array([-1.0856306 ,  0.99734545,  0.2829785 , -1.50629471, -0.57860025,\n",
       "        1.65143654, -2.42667924, -0.42891263,  1.26593626, -0.8667404 ])"
      ]
     },
     "execution_count": 3,
     "metadata": {},
     "output_type": "execute_result"
    }
   ],
   "source": [
    "np.random.randn(len(x1))"
   ]
  },
  {
   "cell_type": "code",
   "execution_count": 4,
   "metadata": {},
   "outputs": [
    {
     "data": {
      "text/plain": [
       "array([-0.16972154, -0.02367724,  0.37284741, -0.1597255 , -0.11099549,\n",
       "       -0.10858782,  0.55148252,  0.54669652,  0.25101347,  0.0965466 ])"
      ]
     },
     "execution_count": 4,
     "metadata": {},
     "output_type": "execute_result"
    }
   ],
   "source": [
    "mu = 0.0\n",
    "sigma = 0.5\n",
    "noise =  sigma**2 * np.random.randn(len(x1)) + mu\n",
    "noise"
   ]
  },
  {
   "cell_type": "code",
   "execution_count": 5,
   "metadata": {
    "collapsed": true
   },
   "outputs": [],
   "source": [
    "a2 = 3.5\n",
    "a1 = 2.3\n",
    "a0 = 1.5\n",
    "y = a0 + a1 * x1 + a2 * x2 + noise"
   ]
  },
  {
   "cell_type": "code",
   "execution_count": 6,
   "metadata": {},
   "outputs": [
    {
     "data": {
      "text/plain": [
       "array([[  0.        ,   1.        ,   4.83027846],\n",
       "       [  0.11111111,   1.11751907,   5.64319505],\n",
       "       [  0.22222222,   1.24884887,   6.75492956],\n",
       "       [  0.33333333,   1.39561243,   6.99158466],\n",
       "       [  0.44444444,   1.5596235 ,   7.86990897],\n",
       "       [  0.55555556,   1.742909  ,   8.76937145],\n",
       "       [  0.66666667,   1.94773404,  10.401885  ],\n",
       "       [  0.77777778,   2.17662993,  11.45379017],\n",
       "       [  0.88888889,   2.43242545,  12.30894701],\n",
       "       [  1.        ,   2.71828183,  13.410533  ]])"
      ]
     },
     "execution_count": 6,
     "metadata": {},
     "output_type": "execute_result"
    }
   ],
   "source": [
    "np.column_stack((x1, x2, y))"
   ]
  },
  {
   "cell_type": "code",
   "execution_count": 7,
   "metadata": {
    "scrolled": true
   },
   "outputs": [
    {
     "name": "stdout",
     "output_type": "stream",
     "text": [
      "[[ 0.          1.        ]\n",
      " [ 0.11111111  1.11751907]\n",
      " [ 0.22222222  1.24884887]\n",
      " [ 0.33333333  1.39561243]\n",
      " [ 0.44444444  1.5596235 ]\n",
      " [ 0.55555556  1.742909  ]\n",
      " [ 0.66666667  1.94773404]\n",
      " [ 0.77777778  2.17662993]\n",
      " [ 0.88888889  2.43242545]\n",
      " [ 1.          2.71828183]]\n"
     ]
    }
   ],
   "source": [
    "X = np.column_stack((x1, x2))\n",
    "print(X)"
   ]
  },
  {
   "cell_type": "code",
   "execution_count": 8,
   "metadata": {},
   "outputs": [
    {
     "data": {
      "text/plain": [
       "LinearRegression(copy_X=True, fit_intercept=True, n_jobs=1, normalize=False)"
      ]
     },
     "execution_count": 8,
     "metadata": {},
     "output_type": "execute_result"
    }
   ],
   "source": [
    "model = LinearRegression()\n",
    "model.fit(X, y)"
   ]
  },
  {
   "cell_type": "code",
   "execution_count": 9,
   "metadata": {},
   "outputs": [],
   "source": [
    "ypred = model.predict(X)"
   ]
  },
  {
   "cell_type": "code",
   "execution_count": 10,
   "metadata": {},
   "outputs": [
    {
     "data": {
      "image/png": "[encoded data removed]",
      "text/plain": [
       "<matplotlib.figure.Figure at 0x952ff60>"
      ]
     },
     "metadata": {},
     "output_type": "display_data"
    }
   ],
   "source": [
    "plt.scatter(y, ypred, color='k', marker='o')\n",
    "plt.xlabel('Data')\n",
    "plt.ylabel('Fit')\n",
    "plt.title('Multivariate Linear Regression Example')\n",
    "plt.grid(True)\n",
    "plt.show()"
   ]
  },
  {
   "cell_type": "code",
   "execution_count": 11,
   "metadata": {},
   "outputs": [
    {
     "name": "stdout",
     "output_type": "stream",
     "text": [
      "1.89192151585\n",
      "[ 3.59673183  2.97190225]\n"
     ]
    }
   ],
   "source": [
    "print(model.intercept_)\n",
    "print(model.coef_)"
   ]
  },
  {
   "cell_type": "code",
   "execution_count": 12,
   "metadata": {},
   "outputs": [
    {
     "data": {
      "text/plain": [
       "0.99275259385870251"
      ]
     },
     "execution_count": 12,
     "metadata": {},
     "output_type": "execute_result"
    }
   ],
   "source": [
    "model.score(X, y) # R^2 value from scikit-learn"
   ]
  },
  {
   "cell_type": "code",
   "execution_count": 13,
   "metadata": {},
   "outputs": [
    {
     "name": "stdout",
     "output_type": "stream",
     "text": [
      "8.170265322381736\n"
     ]
    }
   ],
   "source": [
    "detchk = linalg.det(X.T @ X)\n",
    "print(detchk)"
   ]
  },
  {
   "cell_type": "code",
   "execution_count": 14,
   "metadata": {},
   "outputs": [
    {
     "name": "stdout",
     "output_type": "stream",
     "text": [
      "[ 1.89192152  3.59673183  2.97190225]\n"
     ]
    }
   ],
   "source": [
    "# Compare with analytical solution\n",
    "X = np.ones((len(x1),3))\n",
    "X[:,1] = x1\n",
    "X[:,2] = x2\n",
    "theta = linalg.inv(X.T @ X) @ X.T @ y\n",
    "print(theta)"
   ]
  },
  {
   "cell_type": "code",
   "execution_count": 15,
   "metadata": {
    "collapsed": true
   },
   "outputs": [],
   "source": [
    "ypred = X @ theta"
   ]
  },
  {
   "cell_type": "code",
   "execution_count": 16,
   "metadata": {},
   "outputs": [
    {
     "data": {
      "text/plain": [
       "array([[  4.83027846,   4.86382376],\n",
       "       [  5.64319505,   5.61271582],\n",
       "       [  6.75492956,   6.40265202],\n",
       "       [  6.99158466,   7.23845583],\n",
       "       [  7.86990897,   8.12551758],\n",
       "       [  8.76937145,   9.06986104],\n",
       "       [ 10.401885  ,  10.07821791],\n",
       "       [ 11.45379017,  11.158111  ],\n",
       "       [ 12.30894701,  12.31794715],\n",
       "       [ 13.410533  ,  13.56712123]])"
      ]
     },
     "execution_count": 16,
     "metadata": {},
     "output_type": "execute_result"
    }
   ],
   "source": [
    "np.column_stack((y, ypred))"
   ]
  },
  {
   "cell_type": "code",
   "execution_count": 17,
   "metadata": {},
   "outputs": [
    {
     "name": "stdout",
     "output_type": "stream",
     "text": [
      "0.992752593859\n"
     ]
    }
   ],
   "source": [
    "ybar = np.mean(y)\n",
    "SStot = np.sum((y - ybar)**2) # Total Sum of Squares\n",
    "SSres = np.sum((y - ypred)**2) # Residual Sum of Squares\n",
    "Rsq = 1.0 - SSres / SStot\n",
    "print(Rsq)"
   ]
  },
  {
   "cell_type": "code",
   "execution_count": null,
   "metadata": {
    "collapsed": true
   },
   "outputs": [],
   "source": []
  }
 ],
 "metadata": {
  "kernelspec": {
   "display_name": "Python 3",
   "language": "python",
   "name": "python3"
  },
  "language_info": {
   "codemirror_mode": {
    "name": "ipython",
    "version": 3
   },
   "file_extension": ".py",
   "mimetype": "text/x-python",
   "name": "python",
   "nbconvert_exporter": "python",
   "pygments_lexer": "ipython3",
   "version": "3.6.3"
  }
 },
 "nbformat": 4,
 "nbformat_minor": 2
}
