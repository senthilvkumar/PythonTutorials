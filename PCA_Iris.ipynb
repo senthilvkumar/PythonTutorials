{
 "cells": [
  {
   "cell_type": "code",
   "execution_count": 1,
   "metadata": {
    "collapsed": true
   },
   "outputs": [],
   "source": [
    "### PCA example adapted from Gavin Hackeling's book"
   ]
  },
  {
   "cell_type": "code",
   "execution_count": 2,
   "metadata": {
    "collapsed": true
   },
   "outputs": [],
   "source": [
    "import numpy as np\n",
    "from sklearn.decomposition import PCA\n",
    "from sklearn.datasets import load_iris\n",
    "import matplotlib.pyplot as plt\n",
    "%matplotlib inline"
   ]
  },
  {
   "cell_type": "code",
   "execution_count": 3,
   "metadata": {
    "collapsed": true
   },
   "outputs": [],
   "source": [
    "data = load_iris()\n",
    "y = data.target\n",
    "X = data.data"
   ]
  },
  {
   "cell_type": "code",
   "execution_count": 4,
   "metadata": {},
   "outputs": [
    {
     "data": {
      "text/plain": [
       "array([[ 5.1,  3.5,  1.4,  0.2,  0. ],\n",
       "       [ 4.9,  3. ,  1.4,  0.2,  0. ],\n",
       "       [ 4.7,  3.2,  1.3,  0.2,  0. ],\n",
       "       [ 4.6,  3.1,  1.5,  0.2,  0. ],\n",
       "       [ 5. ,  3.6,  1.4,  0.2,  0. ],\n",
       "       [ 5.4,  3.9,  1.7,  0.4,  0. ],\n",
       "       [ 4.6,  3.4,  1.4,  0.3,  0. ],\n",
       "       [ 5. ,  3.4,  1.5,  0.2,  0. ],\n",
       "       [ 4.4,  2.9,  1.4,  0.2,  0. ],\n",
       "       [ 4.9,  3.1,  1.5,  0.1,  0. ],\n",
       "       [ 5.4,  3.7,  1.5,  0.2,  0. ],\n",
       "       [ 4.8,  3.4,  1.6,  0.2,  0. ],\n",
       "       [ 4.8,  3. ,  1.4,  0.1,  0. ],\n",
       "       [ 4.3,  3. ,  1.1,  0.1,  0. ],\n",
       "       [ 5.8,  4. ,  1.2,  0.2,  0. ],\n",
       "       [ 5.7,  4.4,  1.5,  0.4,  0. ],\n",
       "       [ 5.4,  3.9,  1.3,  0.4,  0. ],\n",
       "       [ 5.1,  3.5,  1.4,  0.3,  0. ],\n",
       "       [ 5.7,  3.8,  1.7,  0.3,  0. ],\n",
       "       [ 5.1,  3.8,  1.5,  0.3,  0. ],\n",
       "       [ 5.4,  3.4,  1.7,  0.2,  0. ],\n",
       "       [ 5.1,  3.7,  1.5,  0.4,  0. ],\n",
       "       [ 4.6,  3.6,  1. ,  0.2,  0. ],\n",
       "       [ 5.1,  3.3,  1.7,  0.5,  0. ],\n",
       "       [ 4.8,  3.4,  1.9,  0.2,  0. ],\n",
       "       [ 5. ,  3. ,  1.6,  0.2,  0. ],\n",
       "       [ 5. ,  3.4,  1.6,  0.4,  0. ],\n",
       "       [ 5.2,  3.5,  1.5,  0.2,  0. ],\n",
       "       [ 5.2,  3.4,  1.4,  0.2,  0. ],\n",
       "       [ 4.7,  3.2,  1.6,  0.2,  0. ],\n",
       "       [ 4.8,  3.1,  1.6,  0.2,  0. ],\n",
       "       [ 5.4,  3.4,  1.5,  0.4,  0. ],\n",
       "       [ 5.2,  4.1,  1.5,  0.1,  0. ],\n",
       "       [ 5.5,  4.2,  1.4,  0.2,  0. ],\n",
       "       [ 4.9,  3.1,  1.5,  0.1,  0. ],\n",
       "       [ 5. ,  3.2,  1.2,  0.2,  0. ],\n",
       "       [ 5.5,  3.5,  1.3,  0.2,  0. ],\n",
       "       [ 4.9,  3.1,  1.5,  0.1,  0. ],\n",
       "       [ 4.4,  3. ,  1.3,  0.2,  0. ],\n",
       "       [ 5.1,  3.4,  1.5,  0.2,  0. ],\n",
       "       [ 5. ,  3.5,  1.3,  0.3,  0. ],\n",
       "       [ 4.5,  2.3,  1.3,  0.3,  0. ],\n",
       "       [ 4.4,  3.2,  1.3,  0.2,  0. ],\n",
       "       [ 5. ,  3.5,  1.6,  0.6,  0. ],\n",
       "       [ 5.1,  3.8,  1.9,  0.4,  0. ],\n",
       "       [ 4.8,  3. ,  1.4,  0.3,  0. ],\n",
       "       [ 5.1,  3.8,  1.6,  0.2,  0. ],\n",
       "       [ 4.6,  3.2,  1.4,  0.2,  0. ],\n",
       "       [ 5.3,  3.7,  1.5,  0.2,  0. ],\n",
       "       [ 5. ,  3.3,  1.4,  0.2,  0. ],\n",
       "       [ 7. ,  3.2,  4.7,  1.4,  1. ],\n",
       "       [ 6.4,  3.2,  4.5,  1.5,  1. ],\n",
       "       [ 6.9,  3.1,  4.9,  1.5,  1. ],\n",
       "       [ 5.5,  2.3,  4. ,  1.3,  1. ],\n",
       "       [ 6.5,  2.8,  4.6,  1.5,  1. ],\n",
       "       [ 5.7,  2.8,  4.5,  1.3,  1. ],\n",
       "       [ 6.3,  3.3,  4.7,  1.6,  1. ],\n",
       "       [ 4.9,  2.4,  3.3,  1. ,  1. ],\n",
       "       [ 6.6,  2.9,  4.6,  1.3,  1. ],\n",
       "       [ 5.2,  2.7,  3.9,  1.4,  1. ],\n",
       "       [ 5. ,  2. ,  3.5,  1. ,  1. ],\n",
       "       [ 5.9,  3. ,  4.2,  1.5,  1. ],\n",
       "       [ 6. ,  2.2,  4. ,  1. ,  1. ],\n",
       "       [ 6.1,  2.9,  4.7,  1.4,  1. ],\n",
       "       [ 5.6,  2.9,  3.6,  1.3,  1. ],\n",
       "       [ 6.7,  3.1,  4.4,  1.4,  1. ],\n",
       "       [ 5.6,  3. ,  4.5,  1.5,  1. ],\n",
       "       [ 5.8,  2.7,  4.1,  1. ,  1. ],\n",
       "       [ 6.2,  2.2,  4.5,  1.5,  1. ],\n",
       "       [ 5.6,  2.5,  3.9,  1.1,  1. ],\n",
       "       [ 5.9,  3.2,  4.8,  1.8,  1. ],\n",
       "       [ 6.1,  2.8,  4. ,  1.3,  1. ],\n",
       "       [ 6.3,  2.5,  4.9,  1.5,  1. ],\n",
       "       [ 6.1,  2.8,  4.7,  1.2,  1. ],\n",
       "       [ 6.4,  2.9,  4.3,  1.3,  1. ],\n",
       "       [ 6.6,  3. ,  4.4,  1.4,  1. ],\n",
       "       [ 6.8,  2.8,  4.8,  1.4,  1. ],\n",
       "       [ 6.7,  3. ,  5. ,  1.7,  1. ],\n",
       "       [ 6. ,  2.9,  4.5,  1.5,  1. ],\n",
       "       [ 5.7,  2.6,  3.5,  1. ,  1. ],\n",
       "       [ 5.5,  2.4,  3.8,  1.1,  1. ],\n",
       "       [ 5.5,  2.4,  3.7,  1. ,  1. ],\n",
       "       [ 5.8,  2.7,  3.9,  1.2,  1. ],\n",
       "       [ 6. ,  2.7,  5.1,  1.6,  1. ],\n",
       "       [ 5.4,  3. ,  4.5,  1.5,  1. ],\n",
       "       [ 6. ,  3.4,  4.5,  1.6,  1. ],\n",
       "       [ 6.7,  3.1,  4.7,  1.5,  1. ],\n",
       "       [ 6.3,  2.3,  4.4,  1.3,  1. ],\n",
       "       [ 5.6,  3. ,  4.1,  1.3,  1. ],\n",
       "       [ 5.5,  2.5,  4. ,  1.3,  1. ],\n",
       "       [ 5.5,  2.6,  4.4,  1.2,  1. ],\n",
       "       [ 6.1,  3. ,  4.6,  1.4,  1. ],\n",
       "       [ 5.8,  2.6,  4. ,  1.2,  1. ],\n",
       "       [ 5. ,  2.3,  3.3,  1. ,  1. ],\n",
       "       [ 5.6,  2.7,  4.2,  1.3,  1. ],\n",
       "       [ 5.7,  3. ,  4.2,  1.2,  1. ],\n",
       "       [ 5.7,  2.9,  4.2,  1.3,  1. ],\n",
       "       [ 6.2,  2.9,  4.3,  1.3,  1. ],\n",
       "       [ 5.1,  2.5,  3. ,  1.1,  1. ],\n",
       "       [ 5.7,  2.8,  4.1,  1.3,  1. ],\n",
       "       [ 6.3,  3.3,  6. ,  2.5,  2. ],\n",
       "       [ 5.8,  2.7,  5.1,  1.9,  2. ],\n",
       "       [ 7.1,  3. ,  5.9,  2.1,  2. ],\n",
       "       [ 6.3,  2.9,  5.6,  1.8,  2. ],\n",
       "       [ 6.5,  3. ,  5.8,  2.2,  2. ],\n",
       "       [ 7.6,  3. ,  6.6,  2.1,  2. ],\n",
       "       [ 4.9,  2.5,  4.5,  1.7,  2. ],\n",
       "       [ 7.3,  2.9,  6.3,  1.8,  2. ],\n",
       "       [ 6.7,  2.5,  5.8,  1.8,  2. ],\n",
       "       [ 7.2,  3.6,  6.1,  2.5,  2. ],\n",
       "       [ 6.5,  3.2,  5.1,  2. ,  2. ],\n",
       "       [ 6.4,  2.7,  5.3,  1.9,  2. ],\n",
       "       [ 6.8,  3. ,  5.5,  2.1,  2. ],\n",
       "       [ 5.7,  2.5,  5. ,  2. ,  2. ],\n",
       "       [ 5.8,  2.8,  5.1,  2.4,  2. ],\n",
       "       [ 6.4,  3.2,  5.3,  2.3,  2. ],\n",
       "       [ 6.5,  3. ,  5.5,  1.8,  2. ],\n",
       "       [ 7.7,  3.8,  6.7,  2.2,  2. ],\n",
       "       [ 7.7,  2.6,  6.9,  2.3,  2. ],\n",
       "       [ 6. ,  2.2,  5. ,  1.5,  2. ],\n",
       "       [ 6.9,  3.2,  5.7,  2.3,  2. ],\n",
       "       [ 5.6,  2.8,  4.9,  2. ,  2. ],\n",
       "       [ 7.7,  2.8,  6.7,  2. ,  2. ],\n",
       "       [ 6.3,  2.7,  4.9,  1.8,  2. ],\n",
       "       [ 6.7,  3.3,  5.7,  2.1,  2. ],\n",
       "       [ 7.2,  3.2,  6. ,  1.8,  2. ],\n",
       "       [ 6.2,  2.8,  4.8,  1.8,  2. ],\n",
       "       [ 6.1,  3. ,  4.9,  1.8,  2. ],\n",
       "       [ 6.4,  2.8,  5.6,  2.1,  2. ],\n",
       "       [ 7.2,  3. ,  5.8,  1.6,  2. ],\n",
       "       [ 7.4,  2.8,  6.1,  1.9,  2. ],\n",
       "       [ 7.9,  3.8,  6.4,  2. ,  2. ],\n",
       "       [ 6.4,  2.8,  5.6,  2.2,  2. ],\n",
       "       [ 6.3,  2.8,  5.1,  1.5,  2. ],\n",
       "       [ 6.1,  2.6,  5.6,  1.4,  2. ],\n",
       "       [ 7.7,  3. ,  6.1,  2.3,  2. ],\n",
       "       [ 6.3,  3.4,  5.6,  2.4,  2. ],\n",
       "       [ 6.4,  3.1,  5.5,  1.8,  2. ],\n",
       "       [ 6. ,  3. ,  4.8,  1.8,  2. ],\n",
       "       [ 6.9,  3.1,  5.4,  2.1,  2. ],\n",
       "       [ 6.7,  3.1,  5.6,  2.4,  2. ],\n",
       "       [ 6.9,  3.1,  5.1,  2.3,  2. ],\n",
       "       [ 5.8,  2.7,  5.1,  1.9,  2. ],\n",
       "       [ 6.8,  3.2,  5.9,  2.3,  2. ],\n",
       "       [ 6.7,  3.3,  5.7,  2.5,  2. ],\n",
       "       [ 6.7,  3. ,  5.2,  2.3,  2. ],\n",
       "       [ 6.3,  2.5,  5. ,  1.9,  2. ],\n",
       "       [ 6.5,  3. ,  5.2,  2. ,  2. ],\n",
       "       [ 6.2,  3.4,  5.4,  2.3,  2. ],\n",
       "       [ 5.9,  3. ,  5.1,  1.8,  2. ]])"
      ]
     },
     "execution_count": 4,
     "metadata": {},
     "output_type": "execute_result"
    }
   ],
   "source": [
    "np.column_stack((X,y))"
   ]
  },
  {
   "cell_type": "code",
   "execution_count": 5,
   "metadata": {
    "collapsed": true
   },
   "outputs": [],
   "source": [
    "pca = PCA(n_components=2)\n",
    "reduced_X = pca.fit_transform(X)"
   ]
  },
  {
   "cell_type": "code",
   "execution_count": 6,
   "metadata": {
    "collapsed": true
   },
   "outputs": [],
   "source": [
    "red_x, red_y = [], []\n",
    "blue_x, blue_y = [], []\n",
    "green_x, green_y = [], []"
   ]
  },
  {
   "cell_type": "code",
   "execution_count": 7,
   "metadata": {
    "collapsed": true
   },
   "outputs": [],
   "source": [
    "for i in range(len(reduced_X)):\n",
    "    if y[i] == 0:\n",
    "        red_x.append(reduced_X[i][0])\n",
    "        red_y.append(reduced_X[i][1])\n",
    "    elif y[i] == 1:\n",
    "        blue_x.append(reduced_X[i][0])\n",
    "        blue_y.append(reduced_X[i][1])\n",
    "    else:\n",
    "        green_x.append(reduced_X[i][0])\n",
    "        green_y.append(reduced_X[i][1])"
   ]
  },
  {
   "cell_type": "code",
   "execution_count": 8,
   "metadata": {},
   "outputs": [
    {
     "data": {
      "image/png": "[encoded data removed]",
      "text/plain": [
       "<matplotlib.figure.Figure at 0x9a3fba8>"
      ]
     },
     "metadata": {},
     "output_type": "display_data"
    }
   ],
   "source": [
    "plt.scatter(red_x, red_y, c='r', marker='x')\n",
    "plt.scatter(blue_x, blue_y, c='b', marker='D')\n",
    "plt.scatter(green_x, green_y, c='g', marker='.')\n",
    "plt.show()"
   ]
  },
  {
   "cell_type": "code",
   "execution_count": null,
   "metadata": {
    "collapsed": true
   },
   "outputs": [],
   "source": []
  }
 ],
 "metadata": {
  "kernelspec": {
   "display_name": "Python 3",
   "language": "python",
   "name": "python3"
  },
  "language_info": {
   "codemirror_mode": {
    "name": "ipython",
    "version": 3
   },
   "file_extension": ".py",
   "mimetype": "text/x-python",
   "name": "python",
   "nbconvert_exporter": "python",
   "pygments_lexer": "ipython3",
   "version": "3.6.3"
  }
 },
 "nbformat": 4,
 "nbformat_minor": 2
}
